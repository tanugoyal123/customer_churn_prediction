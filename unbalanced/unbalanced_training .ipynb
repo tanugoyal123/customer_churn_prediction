{
 "cells": [
  {
   "cell_type": "code",
   "execution_count": 15,
   "metadata": {},
   "outputs": [],
   "source": [
    "import pandas as pd\n",
    "from models import logistic_regression,decision_tree,random_forest,svm_classifier\n",
    "import pickle"
   ]
  },
  {
   "cell_type": "code",
   "execution_count": 16,
   "metadata": {},
   "outputs": [],
   "source": [
    "training_data=pd.read_csv(\"training_data_unbalanced.csv\")\n",
    "x_train=training_data.drop(columns=[\"Churn\"])\n",
    "y_train=training_data['Churn']"
   ]
  },
  {
   "cell_type": "code",
   "execution_count": 17,
   "metadata": {},
   "outputs": [],
   "source": [
    "testing_data=pd.read_csv(\"testing_data_2.csv\")\n",
    "x_test=testing_data.drop(columns=[\"Churn\"])\n",
    "y_test=testing_data['Churn']"
   ]
  },
  {
   "cell_type": "code",
   "execution_count": 18,
   "metadata": {},
   "outputs": [],
   "source": [
    "logistic_regression_results=logistic_regression(x_train,y_train,x_test,y_test)"
   ]
  },
  {
   "cell_type": "code",
   "execution_count": 19,
   "metadata": {},
   "outputs": [
    {
     "name": "stdout",
     "output_type": "stream",
     "text": [
      "training_accuracy:0.8023111111111111\n",
      "testing_accuracy:0.7945984363894811\n",
      "classification_report:              precision    recall  f1-score   support\n",
      "\n",
      "           0       0.85      0.88      0.86      1033\n",
      "           1       0.63      0.56      0.59       374\n",
      "\n",
      "    accuracy                           0.79      1407\n",
      "   macro avg       0.74      0.72      0.73      1407\n",
      "weighted avg       0.79      0.79      0.79      1407\n",
      "\n",
      "model:LogisticRegression()\n",
      "cross_val_score:0.8008888888888889\n"
     ]
    }
   ],
   "source": [
    "for key, value in logistic_regression_results.items():\n",
    "    print(f\"{key}:{value}\")"
   ]
  },
  {
   "cell_type": "code",
   "execution_count": 20,
   "metadata": {},
   "outputs": [],
   "source": [
    "decision_tree_result=decision_tree(x_train, y_train, x_test, y_test)"
   ]
  },
  {
   "cell_type": "code",
   "execution_count": 21,
   "metadata": {},
   "outputs": [
    {
     "name": "stdout",
     "output_type": "stream",
     "text": [
      "training_accuracy:0.9987555555555555\n",
      "testing_accuracy:0.7178393745557925\n",
      "classification_report:              precision    recall  f1-score   support\n",
      "\n",
      "           0       0.81      0.80      0.81      1033\n",
      "           1       0.47      0.49      0.48       374\n",
      "\n",
      "    accuracy                           0.72      1407\n",
      "   macro avg       0.64      0.65      0.64      1407\n",
      "weighted avg       0.72      0.72      0.72      1407\n",
      "\n",
      "model:DecisionTreeClassifier()\n",
      "cross_val_score:0.7367111111111111\n"
     ]
    }
   ],
   "source": [
    "for key, value in decision_tree_result.items():\n",
    "    print(f\"{key}:{value}\")"
   ]
  },
  {
   "cell_type": "code",
   "execution_count": 22,
   "metadata": {},
   "outputs": [],
   "source": [
    "rndomn_forest_results=random_forest(x_train, y_train, x_test, y_test, n_estimators=100)"
   ]
  },
  {
   "cell_type": "code",
   "execution_count": 23,
   "metadata": {},
   "outputs": [
    {
     "name": "stdout",
     "output_type": "stream",
     "text": [
      "training_accuracy:0.9987555555555555\n",
      "testing_accuracy:0.7746979388770433\n",
      "classification_report:              precision    recall  f1-score   support\n",
      "\n",
      "           0       0.82      0.88      0.85      1033\n",
      "           1       0.59      0.48      0.53       374\n",
      "\n",
      "    accuracy                           0.77      1407\n",
      "   macro avg       0.71      0.68      0.69      1407\n",
      "weighted avg       0.76      0.77      0.77      1407\n",
      "\n",
      "model:RandomForestClassifier(random_state=42)\n",
      "cross_val_score:0.7914666666666668\n"
     ]
    }
   ],
   "source": [
    "for key, value in rndomn_forest_results.items():\n",
    "    print(f\"{key}:{value}\")"
   ]
  },
  {
   "cell_type": "code",
   "execution_count": 24,
   "metadata": {},
   "outputs": [],
   "source": [
    "svm_results=svm_classifier(x_train, y_train, x_test, y_test, kernel='linear')"
   ]
  },
  {
   "cell_type": "code",
   "execution_count": 25,
   "metadata": {},
   "outputs": [
    {
     "name": "stdout",
     "output_type": "stream",
     "text": [
      "training_accuracy:0.8012444444444444\n",
      "testing_accuracy:0.7981520966595593\n",
      "classification_report:              precision    recall  f1-score   support\n",
      "\n",
      "           0       0.85      0.89      0.87      1033\n",
      "           1       0.64      0.55      0.59       374\n",
      "\n",
      "    accuracy                           0.80      1407\n",
      "   macro avg       0.74      0.72      0.73      1407\n",
      "weighted avg       0.79      0.80      0.79      1407\n",
      "\n",
      "model:SVC(kernel='linear')\n",
      "cross_val_score:0.7989333333333333\n"
     ]
    }
   ],
   "source": [
    "for key, value in svm_results.items():\n",
    "    print(f\"{key}:{value}\")"
   ]
  },
  {
   "cell_type": "code",
   "execution_count": 26,
   "metadata": {},
   "outputs": [],
   "source": [
    "final_model=logistic_regression_results['model']"
   ]
  },
  {
   "cell_type": "code",
   "execution_count": 27,
   "metadata": {},
   "outputs": [],
   "source": [
    "# Save the model to a file\n",
    "with open('final_model.pkl', 'wb') as file:\n",
    "    pickle.dump(final_model, file)"
   ]
  },
  {
   "cell_type": "code",
   "execution_count": null,
   "metadata": {},
   "outputs": [],
   "source": []
  }
 ],
 "metadata": {
  "kernelspec": {
   "display_name": "Python (env1)",
   "language": "python",
   "name": "env1"
  },
  "language_info": {
   "codemirror_mode": {
    "name": "ipython",
    "version": 3
   },
   "file_extension": ".py",
   "mimetype": "text/x-python",
   "name": "python",
   "nbconvert_exporter": "python",
   "pygments_lexer": "ipython3",
   "version": "3.12.8"
  }
 },
 "nbformat": 4,
 "nbformat_minor": 2
}
