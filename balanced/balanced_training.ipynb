{
 "cells": [
  {
   "cell_type": "code",
   "execution_count": null,
   "metadata": {},
   "outputs": [],
   "source": [
    "#importing libraries\n",
    "import pandas as pd\n",
    "from models import logistic_regression,knn_classifier,decision_tree,random_forest,svm_classifier,naive_bayes"
   ]
  },
  {
   "cell_type": "code",
   "execution_count": null,
   "metadata": {},
   "outputs": [],
   "source": [
    "# importing preprocessed training data\n",
    "training_data=pd.read_csv(\"training_data.csv\")\n",
    "x_train=training_data.drop(columns=[\"Churn\"])\n",
    "y_train=training_data['Churn']"
   ]
  },
  {
   "cell_type": "code",
   "execution_count": null,
   "metadata": {},
   "outputs": [],
   "source": [
    "#importing preprocessed testing data\n",
    "testing_data=pd.read_csv(\"testing_data.csv\")\n",
    "x_test=testing_data.drop(columns=[\"Churn\"])\n",
    "y_test=testing_data['Churn']"
   ]
  },
  {
   "cell_type": "code",
   "execution_count": null,
   "metadata": {},
   "outputs": [],
   "source": [
    "#loading, training and evaluating logistic regression model \n",
    "logistic_regression_results=logistic_regression(x_train,y_train,x_test,y_test)"
   ]
  },
  {
   "cell_type": "code",
   "execution_count": null,
   "metadata": {},
   "outputs": [
    {
     "name": "stdout",
     "output_type": "stream",
     "text": [
      "training_accuracy:0.8055690072639226\n",
      "testing_accuracy:0.7405828002842928\n",
      "classification_report:              precision    recall  f1-score   support\n",
      "\n",
      "           0       0.89      0.74      0.81      1033\n",
      "           1       0.51      0.74      0.60       374\n",
      "\n",
      "    accuracy                           0.74      1407\n",
      "   macro avg       0.70      0.74      0.70      1407\n",
      "weighted avg       0.79      0.74      0.75      1407\n",
      "\n",
      "model:LogisticRegression()\n",
      "cross_val_score:0.7960048426150121\n"
     ]
    }
   ],
   "source": [
    "#print the results\n",
    "for key, value in logistic_regression_results.items():\n",
    "    print(f\"{key}:{value}\")"
   ]
  },
  {
   "cell_type": "code",
   "execution_count": null,
   "metadata": {},
   "outputs": [],
   "source": [
    "#loading, training and evaluating KNN model \n",
    "Knn_classifier_results= knn_classifier(x_train, y_train, x_test, y_test, n_neighbors=5)"
   ]
  },
  {
   "cell_type": "code",
   "execution_count": null,
   "metadata": {},
   "outputs": [
    {
     "name": "stdout",
     "output_type": "stream",
     "text": [
      "training_accuracy:0.8630750605326877\n",
      "testing_accuracy:0.7263681592039801\n",
      "classification_report:              precision    recall  f1-score   support\n",
      "\n",
      "           0       0.87      0.74      0.80      1033\n",
      "           1       0.49      0.69      0.57       374\n",
      "\n",
      "    accuracy                           0.73      1407\n",
      "   macro avg       0.68      0.72      0.69      1407\n",
      "weighted avg       0.77      0.73      0.74      1407\n",
      "\n",
      "model:KNeighborsClassifier()\n",
      "cross_val_score:0.8056900726392252\n"
     ]
    }
   ],
   "source": [
    "#print the results\n",
    "for key, value in Knn_classifier_results.items():\n",
    "    print(f\"{key}:{value}\")"
   ]
  },
  {
   "cell_type": "code",
   "execution_count": null,
   "metadata": {},
   "outputs": [],
   "source": [
    "#loading, training and evaluating decision tree model \n",
    "decision_tree_result=decision_tree(x_train, y_train, x_test, y_test)"
   ]
  },
  {
   "cell_type": "code",
   "execution_count": null,
   "metadata": {},
   "outputs": [
    {
     "name": "stdout",
     "output_type": "stream",
     "text": [
      "training_accuracy:0.9991525423728813\n",
      "testing_accuracy:0.7064676616915423\n",
      "classification_report:              precision    recall  f1-score   support\n",
      "\n",
      "           0       0.82      0.77      0.79      1033\n",
      "           1       0.45      0.52      0.49       374\n",
      "\n",
      "    accuracy                           0.71      1407\n",
      "   macro avg       0.64      0.65      0.64      1407\n",
      "weighted avg       0.72      0.71      0.71      1407\n",
      "\n",
      "model:DecisionTreeClassifier()\n",
      "cross_val_score:0.7880145278450363\n"
     ]
    }
   ],
   "source": [
    "#print the results\n",
    "for key, value in decision_tree_result.items():\n",
    "    print(f\"{key}:{value}\")"
   ]
  },
  {
   "cell_type": "code",
   "execution_count": null,
   "metadata": {},
   "outputs": [],
   "source": [
    "#loading, training and evaluating randomn forest model \n",
    "rndomn_forest_results=random_forest(x_train, y_train, x_test, y_test, n_estimators=100)"
   ]
  },
  {
   "cell_type": "code",
   "execution_count": null,
   "metadata": {},
   "outputs": [
    {
     "name": "stdout",
     "output_type": "stream",
     "text": [
      "training_accuracy:0.9991525423728813\n",
      "testing_accuracy:0.7533759772565742\n",
      "classification_report:              precision    recall  f1-score   support\n",
      "\n",
      "           0       0.84      0.81      0.83      1033\n",
      "           1       0.53      0.59      0.56       374\n",
      "\n",
      "    accuracy                           0.75      1407\n",
      "   macro avg       0.69      0.70      0.69      1407\n",
      "weighted avg       0.76      0.75      0.76      1407\n",
      "\n",
      "model:RandomForestClassifier(random_state=42)\n",
      "cross_val_score:0.831961259079903\n"
     ]
    }
   ],
   "source": [
    "#print the results\n",
    "for key, value in rndomn_forest_results.items():\n",
    "    print(f\"{key}:{value}\")"
   ]
  },
  {
   "cell_type": "code",
   "execution_count": null,
   "metadata": {},
   "outputs": [],
   "source": [
    "#loading, training and evaluating svm model \n",
    "svm_results=svm_classifier(x_train, y_train, x_test, y_test, kernel='linear')"
   ]
  },
  {
   "cell_type": "code",
   "execution_count": null,
   "metadata": {},
   "outputs": [
    {
     "name": "stdout",
     "output_type": "stream",
     "text": [
      "training_accuracy:0.7991525423728814\n",
      "testing_accuracy:0.7412935323383084\n",
      "classification_report:              precision    recall  f1-score   support\n",
      "\n",
      "           0       0.88      0.75      0.81      1033\n",
      "           1       0.51      0.72      0.60       374\n",
      "\n",
      "    accuracy                           0.74      1407\n",
      "   macro avg       0.69      0.73      0.70      1407\n",
      "weighted avg       0.78      0.74      0.75      1407\n",
      "\n",
      "model:SVC(kernel='linear')\n",
      "cross_val_score:0.7928571428571428\n"
     ]
    }
   ],
   "source": [
    "#print the results\n",
    "for key, value in svm_results.items():\n",
    "    print(f\"{key}:{value}\")"
   ]
  },
  {
   "cell_type": "code",
   "execution_count": null,
   "metadata": {},
   "outputs": [],
   "source": [
    "#loading, training and evaluating naive bayes model \n",
    "naive_bayes_results=naive_bayes(x_train, y_train, x_test, y_test)"
   ]
  },
  {
   "cell_type": "code",
   "execution_count": null,
   "metadata": {},
   "outputs": [
    {
     "name": "stdout",
     "output_type": "stream",
     "text": [
      "training_accuracy:0.7944309927360775\n",
      "testing_accuracy:0.7348969438521677\n",
      "classification_report:              precision    recall  f1-score   support\n",
      "\n",
      "           0       0.87      0.75      0.81      1033\n",
      "           1       0.50      0.69      0.58       374\n",
      "\n",
      "    accuracy                           0.73      1407\n",
      "   macro avg       0.69      0.72      0.69      1407\n",
      "weighted avg       0.77      0.73      0.75      1407\n",
      "\n",
      "model:GaussianNB()\n",
      "cross_val_score:0.7897094430992736\n"
     ]
    }
   ],
   "source": [
    "#print the results\n",
    "for key, value in naive_bayes_results.items():\n",
    "    print(f\"{key}:{value}\")"
   ]
  },
  {
   "cell_type": "code",
   "execution_count": null,
   "metadata": {},
   "outputs": [],
   "source": []
  }
 ],
 "metadata": {
  "kernelspec": {
   "display_name": "Python (env1)",
   "language": "python",
   "name": "env1"
  },
  "language_info": {
   "codemirror_mode": {
    "name": "ipython",
    "version": 3
   },
   "file_extension": ".py",
   "mimetype": "text/x-python",
   "name": "python",
   "nbconvert_exporter": "python",
   "pygments_lexer": "ipython3",
   "version": "3.12.8"
  }
 },
 "nbformat": 4,
 "nbformat_minor": 2
}
